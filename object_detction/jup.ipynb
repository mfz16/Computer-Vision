{
 "cells": [
  {
   "cell_type": "code",
   "execution_count": 1,
   "metadata": {},
   "outputs": [
    {
     "ename": "ModuleNotFoundError",
     "evalue": "No module named 'tensorflow'",
     "output_type": "error",
     "traceback": [
      "\u001b[1;31m---------------------------------------------------------------------------\u001b[0m",
      "\u001b[1;31mModuleNotFoundError\u001b[0m                       Traceback (most recent call last)",
      "Cell \u001b[1;32mIn[1], line 1\u001b[0m\n\u001b[1;32m----> 1\u001b[0m \u001b[39mimport\u001b[39;00m \u001b[39mtensorflow\u001b[39;00m\n",
      "\u001b[1;31mModuleNotFoundError\u001b[0m: No module named 'tensorflow'"
     ]
    }
   ],
   "source": [
    "import tensorflow "
   ]
  },
  {
   "cell_type": "code",
   "execution_count": 1,
   "metadata": {},
   "outputs": [],
   "source": [
    "import numpy as np"
   ]
  },
  {
   "cell_type": "code",
   "execution_count": 2,
   "metadata": {},
   "outputs": [],
   "source": [
    "import cv2\n",
    "capture = cv2.VideoCapture('rtsp://192.168.18.554/live/0/MAIN')"
   ]
  },
  {
   "cell_type": "code",
   "execution_count": 2,
   "metadata": {},
   "outputs": [
    {
     "ename": "error",
     "evalue": "OpenCV(4.7.0) D:\\a\\opencv-python\\opencv-python\\opencv\\modules\\dnn\\src\\darknet\\darknet_io.cpp:660: error: (-215:Assertion failed) separator_index < line.size() in function 'cv::dnn::darknet::ReadDarknetFromCfgStream'\n",
     "output_type": "error",
     "traceback": [
      "\u001b[1;31m---------------------------------------------------------------------------\u001b[0m",
      "\u001b[1;31merror\u001b[0m                                     Traceback (most recent call last)",
      "Cell \u001b[1;32mIn[2], line 7\u001b[0m\n\u001b[0;32m      4\u001b[0m os\u001b[39m.\u001b[39menviron[\u001b[39m'\u001b[39m\u001b[39mOPENCV_FFMPEG_CAPTURE_OPTIONS\u001b[39m\u001b[39m'\u001b[39m] \u001b[39m=\u001b[39m \u001b[39m'\u001b[39m\u001b[39mrtsp_transport;udp\u001b[39m\u001b[39m'\u001b[39m\n\u001b[0;32m      6\u001b[0m cap \u001b[39m=\u001b[39m cv2\u001b[39m.\u001b[39mVideoCapture(\u001b[39m'\u001b[39m\u001b[39mrtsp://192.168.18.554/live/1\u001b[39m\u001b[39m'\u001b[39m)\n\u001b[1;32m----> 7\u001b[0m model \u001b[39m=\u001b[39m cv2\u001b[39m.\u001b[39;49mdnn\u001b[39m.\u001b[39;49mreadNet(\u001b[39m\"\u001b[39;49m\u001b[39md://yolov3/yolov3.weights\u001b[39;49m\u001b[39m\"\u001b[39;49m, \u001b[39m\"\u001b[39;49m\u001b[39md://yolov3/yolov3.cfg\u001b[39;49m\u001b[39m\"\u001b[39;49m)\n\u001b[0;32m      8\u001b[0m \u001b[39mwhile\u001b[39;00m(\u001b[39mTrue\u001b[39;00m):\n\u001b[0;32m     10\u001b[0m     ret, frame \u001b[39m=\u001b[39m cap\u001b[39m.\u001b[39mread()\n",
      "\u001b[1;31merror\u001b[0m: OpenCV(4.7.0) D:\\a\\opencv-python\\opencv-python\\opencv\\modules\\dnn\\src\\darknet\\darknet_io.cpp:660: error: (-215:Assertion failed) separator_index < line.size() in function 'cv::dnn::darknet::ReadDarknetFromCfgStream'\n"
     ]
    }
   ],
   "source": [
    "import cv2\n",
    "import os\n",
    "import numpy as np\n",
    "os.environ['OPENCV_FFMPEG_CAPTURE_OPTIONS'] = 'rtsp_transport;udp'\n",
    "\n",
    "cap = cv2.VideoCapture('rtsp://192.168.18.554/live/1')\n",
    "model = cv2.dnn.readNet(\"d://yolov3/yolov3.weights\", \"d://yolov3/yolov3.cfg\")\n",
    "while(True):\n",
    "\n",
    "    ret, frame = cap.read()\n",
    "    #Preprocess the input frame\n",
    "    blob = cv2.dnn.blobFromImage(frame, 1/255.0, (416, 416), swapRB=True, crop=False)\n",
    "    \n",
    "    # Set the input for the YOLO model\n",
    "    model.setInput(blob)\n",
    "    \n",
    "    # Get the output from the YOLO model\n",
    "    output_layers = model.getUnconnectedOutLayersNames()\n",
    "    outputs = model.forward(output_layers)\n",
    "    \n",
    "    # Process the output to get the detected objects\n",
    "    \n",
    "    cv2.imshow('frame',frame)\n",
    "\n",
    "    if cv2.waitKey(1) & 0xFF == ord('q'):\n",
    "\n",
    "        break\n",
    "\n",
    "cap.release()\n",
    "\n",
    "cv2.destroyAllWindows()"
   ]
  },
  {
   "cell_type": "code",
   "execution_count": 1,
   "metadata": {},
   "outputs": [
    {
     "name": "stdout",
     "output_type": "stream",
     "text": [
      "hello\n"
     ]
    }
   ],
   "source": [
    "import cv2\n",
    "import os\n",
    "\n",
    "RTSP_URL = 'rtsp://admin:@192.168.18.143:554/live/0/MAIN'\n",
    "print(\"hello\")\n",
    "cap = cv2.VideoCapture(RTSP_URL)\n",
    "print(\"aftwr cap\")\n",
    "if not cap.isOpened():\n",
    "    print('Cannot open RTSP stream')\n",
    "    exit(-1)\n",
    "\n",
    "while True:\n",
    "    print(cap.read())\n",
    "    ret, frame = cap.read()\n",
    "    cv2.imshow('RTSP stream', frame)\n",
    "\n"
   ]
  },
  {
   "cell_type": "code",
   "execution_count": 3,
   "metadata": {},
   "outputs": [
    {
     "name": "stdout",
     "output_type": "stream",
     "text": [
      "\n",
      "General configuration for OpenCV 4.6.0 =====================================\n",
      "  Version control:               unknown\n",
      "\n",
      "  Extra modules:\n",
      "    Location (extra):            C:/b/abs_d8ltn27ay8/croot/opencv-suite_1676452046667/work/opencv_contrib-4.6.0/modules\n",
      "    Version control (extra):     unknown\n",
      "\n",
      "  Platform:\n",
      "    Timestamp:                   2023-02-15T10:05:23Z\n",
      "    Host:                        Windows 10.0.17763 AMD64\n",
      "    CMake:                       3.22.1\n",
      "    CMake generator:             Ninja\n",
      "    CMake build tool:            C:/b/abs_d8ltn27ay8/croot/opencv-suite_1676452046667/_build_env/Library/bin/ninja.exe\n",
      "    MSVC:                        1916\n",
      "    Configuration:               Release\n",
      "\n",
      "  CPU/HW features:\n",
      "    Baseline:                    SSE SSE2 SSE3\n",
      "      requested:                 SSE3\n",
      "    Dispatched code generation:  SSE4_1 SSE4_2 FP16 AVX AVX2 AVX512_SKX\n",
      "      requested:                 SSE4_1 SSE4_2 AVX FP16 AVX2 AVX512_SKX\n",
      "      SSE4_1 (16 files):         + SSSE3 SSE4_1\n",
      "      SSE4_2 (1 files):          + SSSE3 SSE4_1 POPCNT SSE4_2\n",
      "      FP16 (0 files):            + SSSE3 SSE4_1 POPCNT SSE4_2 FP16 AVX\n",
      "      AVX (4 files):             + SSSE3 SSE4_1 POPCNT SSE4_2 AVX\n",
      "      AVX2 (31 files):           + SSSE3 SSE4_1 POPCNT SSE4_2 FP16 FMA3 AVX AVX2\n",
      "      AVX512_SKX (5 files):      + SSSE3 SSE4_1 POPCNT SSE4_2 FP16 FMA3 AVX AVX2 AVX_512F AVX512_COMMON AVX512_SKX\n",
      "\n",
      "  C/C++:\n",
      "    Built as dynamic libs?:      YES\n",
      "    C++ standard:                11\n",
      "    C++ Compiler:                C:/Program Files (x86)/Microsoft Visual Studio/2017/BuildTools/VC/Tools/MSVC/14.16.27023/bin/Hostx64/x64/cl.exe  (ver 19.16.27048.0)\n",
      "    C++ flags (Release):         /DWIN32 /D_WINDOWS /W4 /GR  /D _CRT_SECURE_NO_DEPRECATE /D _CRT_NONSTDC_NO_DEPRECATE /D _SCL_SECURE_NO_WARNINGS /Gy /bigobj /Oi  /fp:precise /FS     /EHa /wd4127 /wd4251 /wd4324 /wd4275 /wd4512 /wd4589  /MD /O2 /Ob2 /DNDEBUG \n",
      "    C++ flags (Debug):           /DWIN32 /D_WINDOWS /W4 /GR  /D _CRT_SECURE_NO_DEPRECATE /D _CRT_NONSTDC_NO_DEPRECATE /D _SCL_SECURE_NO_WARNINGS /Gy /bigobj /Oi  /fp:precise /FS     /EHa /wd4127 /wd4251 /wd4324 /wd4275 /wd4512 /wd4589  /MDd /Zi /Ob0 /Od /RTC1 \n",
      "    C Compiler:                  C:/Program Files (x86)/Microsoft Visual Studio/2017/BuildTools/VC/Tools/MSVC/14.16.27023/bin/Hostx64/x64/cl.exe\n",
      "    C flags (Release):           /DWIN32 /D_WINDOWS /W3  /D _CRT_SECURE_NO_DEPRECATE /D _CRT_NONSTDC_NO_DEPRECATE /D _SCL_SECURE_NO_WARNINGS /Gy /bigobj /Oi  /fp:precise /FS       /MD /O2 /Ob2 /DNDEBUG \n",
      "    C flags (Debug):             /DWIN32 /D_WINDOWS /W3  /D _CRT_SECURE_NO_DEPRECATE /D _CRT_NONSTDC_NO_DEPRECATE /D _SCL_SECURE_NO_WARNINGS /Gy /bigobj /Oi  /fp:precise /FS     /MDd /Zi /Ob0 /Od /RTC1 \n",
      "    Linker flags (Release):      /machine:x64  /INCREMENTAL:NO \n",
      "    Linker flags (Debug):        /machine:x64  /debug /INCREMENTAL \n",
      "    ccache:                      NO\n",
      "    Precompiled headers:         NO\n",
      "    Extra dependencies:\n",
      "    3rdparty dependencies:\n",
      "\n",
      "  OpenCV modules:\n",
      "    To be built:                 alphamat aruco barcode bgsegm calib3d ccalib core cvv datasets dnn dnn_objdetect dnn_superres dpm face features2d flann fuzzy gapi hdf hfs highgui img_hash imgcodecs imgproc intensity_transform line_descriptor mcc ml objdetect optflow phase_unwrapping photo plot python3 quality rapid reg rgbd saliency shape stereo stitching structured_light superres surface_matching text tracking video videoio videostab wechat_qrcode xfeatures2d ximgproc xobjdetect xphoto\n",
      "    Disabled:                    bioinspired world\n",
      "    Disabled by dependency:      -\n",
      "    Unavailable:                 cudaarithm cudabgsegm cudacodec cudafeatures2d cudafilters cudaimgproc cudalegacy cudaobjdetect cudaoptflow cudastereo cudawarping cudev freetype java julia matlab ovis python2 sfm ts viz\n",
      "    Applications:                apps\n",
      "    Documentation:               NO\n",
      "    Non-free algorithms:         NO\n",
      "\n",
      "  Windows RT support:            NO\n",
      "\n",
      "  GUI:                           QT5\n",
      "    QT:                          YES (ver 5.15.2 )\n",
      "      QT OpenGL support:         NO\n",
      "\n",
      "  Media I/O: \n",
      "    ZLib:                        C:/b/abs_d8ltn27ay8/croot/opencv-suite_1676452046667/_h_env/Library/lib/z.lib (ver 1.2.13)\n",
      "    JPEG:                        C:/b/abs_d8ltn27ay8/croot/opencv-suite_1676452046667/_h_env/Library/lib/jpeg.lib (ver 90)\n",
      "    WEBP:                        C:/b/abs_d8ltn27ay8/croot/opencv-suite_1676452046667/_h_env/Library/lib/libwebp.lib (ver encoder: 0x020f)\n",
      "    PNG:                         C:/b/abs_d8ltn27ay8/croot/opencv-suite_1676452046667/_h_env/Library/lib/libpng.lib (ver 1.6.37)\n",
      "    TIFF:                        C:/b/abs_d8ltn27ay8/croot/opencv-suite_1676452046667/_h_env/Library/lib/tiff.lib (ver 42 / 4.1.0)\n",
      "    OpenEXR:                     build (ver 2.3.0)\n",
      "    HDR:                         YES\n",
      "    SUNRASTER:                   YES\n",
      "    PXM:                         YES\n",
      "    PFM:                         YES\n",
      "\n",
      "  Video I/O:\n",
      "    GStreamer:                   YES (1.18.5)\n",
      "    DirectShow:                  YES\n",
      "    Media Foundation:            YES\n",
      "      DXVA:                      NO\n",
      "\n",
      "  Parallel framework:            Concurrency\n",
      "\n",
      "  Trace:                         YES (with Intel ITT)\n",
      "\n",
      "  Other third-party libraries:\n",
      "    Intel IPP:                   2020.0.0 Gold [2020.0.0]\n",
      "           at:                   C:/b/abs_d8ltn27ay8/croot/opencv-suite_1676452046667/work/build/3rdparty/ippicv/ippicv_win/icv\n",
      "    Intel IPP IW:                NO\n",
      "    Eigen:                       YES (ver 3.3.7)\n",
      "    Custom HAL:                  NO\n",
      "    Protobuf:                    C:/b/abs_d8ltn27ay8/croot/opencv-suite_1676452046667/_h_env/Library/lib/libprotobuf.lib (3.20.3)\n",
      "\n",
      "  Python 3:\n",
      "    Interpreter:                 C:/b/abs_d8ltn27ay8/croot/opencv-suite_1676452046667/_h_env/python.exe (ver 3.9.16)\n",
      "    Libraries:                   C:/b/abs_d8ltn27ay8/croot/opencv-suite_1676452046667/_h_env/libs/python39.lib (ver 3.9.16)\n",
      "    numpy:                       C:/b/abs_d8ltn27ay8/croot/opencv-suite_1676452046667/_h_env/lib/site-packages/numpy/core/include (ver 1.16.6)\n",
      "    install path:                C:\\b\\abs_d8ltn27ay8\\croot\\opencv-suite_1676452046667\\_h_env\\Lib\\site-packages\n",
      "\n",
      "  Python (for build):            C:\\b\\abs_d8ltn27ay8\\croot\\opencv-suite_1676452046667\\_h_env/python.exe\n",
      "\n",
      "  Install to:                    C:/b/abs_d8ltn27ay8/croot/opencv-suite_1676452046667/_h_env/Library\n",
      "-----------------------------------------------------------------\n",
      "\n",
      "\n"
     ]
    }
   ],
   "source": [
    "import cv2\n",
    "print(cv2.getBuildInformation())"
   ]
  },
  {
   "cell_type": "code",
   "execution_count": 3,
   "metadata": {},
   "outputs": [
    {
     "name": "stderr",
     "output_type": "stream",
     "text": [
      "\n",
      "KeyboardInterrupt\n",
      "\n"
     ]
    }
   ],
   "source": [
    "import numpy as np\n",
    "import os\n",
    "import six.moves.urllib as urllib\n",
    "import sys\n",
    "import tarfile\n",
    "import tensorflow as tf\n",
    "import zipfile\n",
    "import pathlib\n",
    "from collections import defaultdict\n",
    "from io import StringIO\n",
    "from matplotlib import pyplot as plt\n",
    "from PIL import Image\n",
    "from IPython.display import display\n",
    "from object_detection.utils import ops as utils_ops\n",
    "from object_detection.utils import label_map_util\n",
    "from object_detection.utils import visualization_utils as vis_util\n",
    " \n",
    "while \"models\" in pathlib.Path.cwd().parts:\n",
    "    os.chdir('..')\n",
    " \n",
    "def load_model(model_name):\n",
    "  base_url = 'http://download.tensorflow.org/models/object_detection/'\n",
    "  model_file = model_name + '.tar.gz'\n",
    "  model_dir = tf.keras.utils.get_file(\n",
    "    fname=model_name, \n",
    "    origin=base_url + model_file,\n",
    "    untar=True)\n",
    " \n",
    "  model_dir = pathlib.Path(model_dir)/\"saved_model\"\n",
    " \n",
    "  model = tf.saved_model.load(str(model_dir))\n",
    " \n",
    "  return model\n",
    " \n",
    "PATH_TO_LABELS = 'models/research/object_detection/data/mscoco_label_map.pbtxt'\n",
    "category_index = label_map_util.create_category_index_from_labelmap(PATH_TO_LABELS, use_display_name=True)\n",
    " \n",
    "model_name = 'ssd_inception_v2_coco_2017_11_17'\n",
    "detection_model = load_model(model_name)"
   ]
  },
  {
   "cell_type": "code",
   "execution_count": null,
   "metadata": {},
   "outputs": [],
   "source": []
  }
 ],
 "metadata": {
  "kernelspec": {
   "display_name": "base",
   "language": "python",
   "name": "python3"
  },
  "language_info": {
   "codemirror_mode": {
    "name": "ipython",
    "version": 3
   },
   "file_extension": ".py",
   "mimetype": "text/x-python",
   "name": "python",
   "nbconvert_exporter": "python",
   "pygments_lexer": "ipython3",
   "version": "3.9.16"
  },
  "orig_nbformat": 4,
  "vscode": {
   "interpreter": {
    "hash": "3725119e1c555242cc5e1a9e09bd5d2e714307430862257245be8ecefe16502e"
   }
  }
 },
 "nbformat": 4,
 "nbformat_minor": 2
}
