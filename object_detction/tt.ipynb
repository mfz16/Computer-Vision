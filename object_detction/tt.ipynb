{
 "cells": [
  {
   "cell_type": "code",
   "execution_count": 2,
   "metadata": {},
   "outputs": [
    {
     "name": "stdout",
     "output_type": "stream",
     "text": [
      "d://google_models/gesture/gesture_recognizer.task\n"
     ]
    },
    {
     "ename": "RuntimeError",
     "evalue": "Unable to open file at d:\\ProgramData\\anaconda3\\envs\\tf-gpu\\lib\\site-packages/d:\\google_models\\gesture\\gesture_recognizer.task, errno=22",
     "output_type": "error",
     "traceback": [
      "\u001b[1;31m---------------------------------------------------------------------------\u001b[0m",
      "\u001b[1;31mRuntimeError\u001b[0m                              Traceback (most recent call last)",
      "\u001b[1;32md:\\VS_code\\newpy\\object_detction\\tt.ipynb Cell 1\u001b[0m line \u001b[0;36m4\n\u001b[0;32m     <a href='vscode-notebook-cell:/d%3A/VS_code/newpy/object_detction/tt.ipynb#W0sZmlsZQ%3D%3D?line=24'>25</a>\u001b[0m     \u001b[39m#image_h, image_w, _ = image.shape\u001b[39;00m\n\u001b[0;32m     <a href='vscode-notebook-cell:/d%3A/VS_code/newpy/object_detction/tt.ipynb#W0sZmlsZQ%3D%3D?line=25'>26</a>\u001b[0m    \n\u001b[0;32m     <a href='vscode-notebook-cell:/d%3A/VS_code/newpy/object_detction/tt.ipynb#W0sZmlsZQ%3D%3D?line=26'>27</a>\u001b[0m     \n\u001b[1;32m   (...)\u001b[0m\n\u001b[0;32m     <a href='vscode-notebook-cell:/d%3A/VS_code/newpy/object_detction/tt.ipynb#W0sZmlsZQ%3D%3D?line=40'>41</a>\u001b[0m     \u001b[39m# except Exception as error:\u001b[39;00m\n\u001b[0;32m     <a href='vscode-notebook-cell:/d%3A/VS_code/newpy/object_detction/tt.ipynb#W0sZmlsZQ%3D%3D?line=41'>42</a>\u001b[0m     \u001b[39m#     print('Exception found',error)\u001b[39;00m\n\u001b[0;32m     <a href='vscode-notebook-cell:/d%3A/VS_code/newpy/object_detction/tt.ipynb#W0sZmlsZQ%3D%3D?line=43'>44</a>\u001b[0m options \u001b[39m=\u001b[39m GestureRecognizerOptions(\n\u001b[0;32m     <a href='vscode-notebook-cell:/d%3A/VS_code/newpy/object_detction/tt.ipynb#W0sZmlsZQ%3D%3D?line=44'>45</a>\u001b[0m     base_options\u001b[39m=\u001b[39mBaseOptions(model_asset_path\u001b[39m=\u001b[39mmodel_path),\n\u001b[0;32m     <a href='vscode-notebook-cell:/d%3A/VS_code/newpy/object_detction/tt.ipynb#W0sZmlsZQ%3D%3D?line=45'>46</a>\u001b[0m     running_mode\u001b[39m=\u001b[39mVisionRunningMode\u001b[39m.\u001b[39mLIVE_STREAM,\n\u001b[0;32m     <a href='vscode-notebook-cell:/d%3A/VS_code/newpy/object_detction/tt.ipynb#W0sZmlsZQ%3D%3D?line=46'>47</a>\u001b[0m     num_hands\u001b[39m=\u001b[39m\u001b[39m2\u001b[39m, min_hand_detection_confidence\u001b[39m=\u001b[39m\u001b[39m0.4\u001b[39m, result_callback\u001b[39m=\u001b[39mprint_result)\n\u001b[1;32m---> <a href='vscode-notebook-cell:/d%3A/VS_code/newpy/object_detction/tt.ipynb#W0sZmlsZQ%3D%3D?line=48'>49</a>\u001b[0m \u001b[39mwith\u001b[39;00m GestureRecognizer\u001b[39m.\u001b[39;49mcreate_from_options(options) \u001b[39mas\u001b[39;00m recognizer:\n\u001b[0;32m     <a href='vscode-notebook-cell:/d%3A/VS_code/newpy/object_detction/tt.ipynb#W0sZmlsZQ%3D%3D?line=49'>50</a>\u001b[0m     cap \u001b[39m=\u001b[39m cv2\u001b[39m.\u001b[39mVideoCapture(\u001b[39m0\u001b[39m)\n\u001b[0;32m     <a href='vscode-notebook-cell:/d%3A/VS_code/newpy/object_detction/tt.ipynb#W0sZmlsZQ%3D%3D?line=51'>52</a>\u001b[0m     \u001b[39mwhile\u001b[39;00m cap\u001b[39m.\u001b[39misOpened():\n",
      "File \u001b[1;32md:\\ProgramData\\anaconda3\\envs\\tf-gpu\\lib\\site-packages\\mediapipe\\tasks\\python\\vision\\gesture_recognizer.py:340\u001b[0m, in \u001b[0;36mGestureRecognizer.create_from_options\u001b[1;34m(cls, options)\u001b[0m\n\u001b[0;32m    317\u001b[0m   options\u001b[39m.\u001b[39mresult_callback(\n\u001b[0;32m    318\u001b[0m       gesture_recognizer_result,\n\u001b[0;32m    319\u001b[0m       image,\n\u001b[0;32m    320\u001b[0m       timestamp\u001b[39m.\u001b[39mvalue \u001b[39m/\u001b[39m\u001b[39m/\u001b[39m _MICRO_SECONDS_PER_MILLISECOND,\n\u001b[0;32m    321\u001b[0m   )\n\u001b[0;32m    323\u001b[0m task_info \u001b[39m=\u001b[39m _TaskInfo(\n\u001b[0;32m    324\u001b[0m     task_graph\u001b[39m=\u001b[39m_TASK_GRAPH_NAME,\n\u001b[0;32m    325\u001b[0m     input_streams\u001b[39m=\u001b[39m[\n\u001b[1;32m   (...)\u001b[0m\n\u001b[0;32m    338\u001b[0m     task_options\u001b[39m=\u001b[39moptions,\n\u001b[0;32m    339\u001b[0m )\n\u001b[1;32m--> 340\u001b[0m \u001b[39mreturn\u001b[39;00m \u001b[39mcls\u001b[39;49m(\n\u001b[0;32m    341\u001b[0m     task_info\u001b[39m.\u001b[39;49mgenerate_graph_config(\n\u001b[0;32m    342\u001b[0m         enable_flow_limiting\u001b[39m=\u001b[39;49moptions\u001b[39m.\u001b[39;49mrunning_mode\n\u001b[0;32m    343\u001b[0m         \u001b[39m==\u001b[39;49m _RunningMode\u001b[39m.\u001b[39;49mLIVE_STREAM\n\u001b[0;32m    344\u001b[0m     ),\n\u001b[0;32m    345\u001b[0m     options\u001b[39m.\u001b[39;49mrunning_mode,\n\u001b[0;32m    346\u001b[0m     packets_callback \u001b[39mif\u001b[39;49;00m options\u001b[39m.\u001b[39;49mresult_callback \u001b[39melse\u001b[39;49;00m \u001b[39mNone\u001b[39;49;00m,\n\u001b[0;32m    347\u001b[0m )\n",
      "File \u001b[1;32md:\\ProgramData\\anaconda3\\envs\\tf-gpu\\lib\\site-packages\\mediapipe\\tasks\\python\\vision\\core\\base_vision_task_api.py:70\u001b[0m, in \u001b[0;36mBaseVisionTaskApi.__init__\u001b[1;34m(self, graph_config, running_mode, packet_callback)\u001b[0m\n\u001b[0;32m     65\u001b[0m \u001b[39melif\u001b[39;00m packet_callback:\n\u001b[0;32m     66\u001b[0m   \u001b[39mraise\u001b[39;00m \u001b[39mValueError\u001b[39;00m(\n\u001b[0;32m     67\u001b[0m       \u001b[39m'\u001b[39m\u001b[39mThe vision task is in image or video mode, a user-defined result \u001b[39m\u001b[39m'\u001b[39m\n\u001b[0;32m     68\u001b[0m       \u001b[39m'\u001b[39m\u001b[39mcallback should not be provided.\u001b[39m\u001b[39m'\u001b[39m\n\u001b[0;32m     69\u001b[0m   )\n\u001b[1;32m---> 70\u001b[0m \u001b[39mself\u001b[39m\u001b[39m.\u001b[39m_runner \u001b[39m=\u001b[39m _TaskRunner\u001b[39m.\u001b[39;49mcreate(graph_config, packet_callback)\n\u001b[0;32m     71\u001b[0m \u001b[39mself\u001b[39m\u001b[39m.\u001b[39m_running_mode \u001b[39m=\u001b[39m running_mode\n",
      "\u001b[1;31mRuntimeError\u001b[0m: Unable to open file at d:\\ProgramData\\anaconda3\\envs\\tf-gpu\\lib\\site-packages/d:\\google_models\\gesture\\gesture_recognizer.task, errno=22"
     ]
    }
   ],
   "source": [
    "import mediapipe as mp\n",
    "import cv2\n",
    "from mediapipe.framework.formats import landmark_pb2\n",
    "from mediapipe.tasks import python\n",
    "from mediapipe.tasks.python import vision\n",
    "mp_hands = mp.solutions.hands\n",
    "hands = mp_hands.Hands()\n",
    "#print(hands)\n",
    "mp_drawing = mp.solutions.drawing_utils\n",
    "mp_drawing_styles = mp.solutions.drawing_styles\n",
    "model_path = r\"d://google_models/gesture/gesture_recognizer.task\"\n",
    "print(model_path)\n",
    "model_asset_path = model_path\n",
    "BaseOptions = mp.tasks.BaseOptions\n",
    "GestureRecognizer = mp.tasks.vision.GestureRecognizer\n",
    "GestureRecognizerOptions = mp.tasks.vision.GestureRecognizerOptions\n",
    "GestureRecognizerResult = mp.tasks.vision.GestureRecognizerResult\n",
    "VisionRunningMode = mp.tasks.vision.RunningMode\n",
    "#r=mp.tasks.vision.HandLandmarksConnections\n",
    "\n",
    "# Create a gesture recognizer instance with the live stream mode:\n",
    "def print_result(result: GestureRecognizerResult, output_image: mp.Image, timestamp_ms: int):\n",
    "    print('gesture recognition result: {}'.format(result))\n",
    "    image = output_image.numpy_view()\n",
    "    #image_h, image_w, _ = image.shape\n",
    "   \n",
    "    \n",
    "\n",
    "    # try:\n",
    "        \n",
    "    #     for hand_landmarks in result.hand_landmarks:\n",
    "    #       hand_landmarks_proto = landmark_pb2.NormalizedLandmarkList()\n",
    "    #       hand_landmarks_proto.landmark.extend([\n",
    "    #         landmark_pb2.NormalizedLandmark(x=landmark.x, y=landmark.y, z=landmark.z) for landmark in hand_landmarks\n",
    "    #       ])\n",
    "    #     #print(result.__dir__())\n",
    "        \n",
    "    #     print(\"Hand Ladmsrk is\",result.hand_landmarks[0][4].x)\n",
    "    #     print(\"hand gesture is\",result.gestures)\n",
    "    #     mp_drawing.draw_landmarks(frame,hand_landmarks_proto,mp_hands.HAND_CONNECTIONS)\n",
    "    # except Exception as error:\n",
    "    #     print('Exception found',error)\n",
    "\n",
    "options = GestureRecognizerOptions(\n",
    "    base_options=BaseOptions(model_asset_path=model_path),\n",
    "    running_mode=VisionRunningMode.LIVE_STREAM,\n",
    "    num_hands=2, min_hand_detection_confidence=0.4, result_callback=print_result)\n",
    "\n",
    "with GestureRecognizer.create_from_options(options) as recognizer:\n",
    "    cap = cv2.VideoCapture(0)\n",
    "\n",
    "    while cap.isOpened():\n",
    "        ret, fr = cap.read()\n",
    "        if not ret:\n",
    "            break\n",
    "        frame=fr.copy()\n",
    "        image = cv2.cvtColor(cv2.flip(frame, 1), cv2.COLOR_BGR2RGB)\n",
    "        mp_image = mp.Image(image_format=mp.ImageFormat.SRGB, data=image)\n",
    "        \n",
    "        # Recognize hand gestures asynchronously\n",
    "        recognizer.recognize_async(mp_image, int(cap.get(cv2.CAP_PROP_POS_MSEC)))\n",
    "        results = hands.process(image)\n",
    "        if results.multi_hand_landmarks:                      \n",
    "                for hand_landmarks in results.multi_hand_landmarks:\n",
    "                    mp_drawing.draw_landmarks(\n",
    "                        image, hand_landmarks, mp_hands.HAND_CONNECTIONS)\n",
    "        # Display the original frame\n",
    "        cv2.imshow('original_frame', frame)\n",
    "\n",
    "        if cv2.waitKey(5) & 0xFF == ord('q'):\n",
    "            break\n",
    "cap.release()\n",
    "cv2.destroyAllWindows()\n",
    "print('No gesture recognition result')"
   ]
  }
 ],
 "metadata": {
  "kernelspec": {
   "display_name": "tf-gpu",
   "language": "python",
   "name": "python3"
  },
  "language_info": {
   "codemirror_mode": {
    "name": "ipython",
    "version": 3
   },
   "file_extension": ".py",
   "mimetype": "text/x-python",
   "name": "python",
   "nbconvert_exporter": "python",
   "pygments_lexer": "ipython3",
   "version": "3.9.18"
  }
 },
 "nbformat": 4,
 "nbformat_minor": 2
}
